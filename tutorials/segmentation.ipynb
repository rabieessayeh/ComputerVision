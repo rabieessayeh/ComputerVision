{
  "cells": [
    {
      "cell_type": "markdown",
      "metadata": {
        "id": "view-in-github",
        "colab_type": "text"
      },
      "source": [
        "<a href=\"https://colab.research.google.com/github/rabieessayeh/ComputerVision/blob/main/tutorials/segmentation.ipynb\" target=\"_parent\"><img src=\"https://colab.research.google.com/assets/colab-badge.svg\" alt=\"Open In Colab\"/></a>"
      ]
    },
    {
      "cell_type": "markdown",
      "metadata": {
        "id": "KOCu9DAC6REd"
      },
      "source": [
        "# Practical Session : Image segmentation\n",
        "\n",
        "The objective of this practical session is to perform the segmentation of noisy images of disks using the Context Aggregation Network introduced by Yu and Koltun in 2015.\n",
        "\n",
        "Yu, F., & Koltun, V. (2015). Multi-scale context aggregation by dilated convolutions. arXiv preprint arXiv:1511.07122."
      ]
    },
    {
      "cell_type": "markdown",
      "metadata": {
        "id": "eIQH-6LP6REj"
      },
      "source": [
        "To run the notebook using Google Colab:\n",
        "1. Go to Google Colab: https://colab.research.google.com/\n",
        "2. File -> Upload Notebook\n",
        "3. Upload the notebook\n",
        "4. In Edit -> Notebook Setting, select a gpu as hardware accelerator\n"
      ]
    },
    {
      "cell_type": "code",
      "execution_count": 1,
      "metadata": {
        "id": "SBMZhh9o6REj"
      },
      "outputs": [],
      "source": [
        "import numpy as np\n",
        "import matplotlib.pyplot as plt"
      ]
    },
    {
      "cell_type": "markdown",
      "metadata": {
        "id": "GKq4ALup6REk"
      },
      "source": [
        "## 1. Data generation\n",
        "\n",
        "The code below allows to simulate images of disks with distinct gray levels. The images are $64 \\times 64$ pixels images encoded on 8 bites. An average of $\\theta = 5$ disks are randomly generated in each image. The radii of the disks are sampled from independent normal distributions with mean $4$ pixels and standard deviation $0.5$ pixel. The gray level of each disk is drawn randomly from an uniform distribution between $15$ and $200$.\n",
        "White noise with standard deviation $\\sigma = 30$ pixels is then added to the images."
      ]
    },
    {
      "cell_type": "code",
      "execution_count": 2,
      "metadata": {
        "id": "GwvIgRGb6REl"
      },
      "outputs": [],
      "source": [
        "class Data_Generator:\n",
        "\n",
        "    \"\"\"\n",
        "    Class used to generate synthetic images\n",
        "\n",
        "    Attributes\n",
        "    ----------\n",
        "\n",
        "    nx, ny: ints\n",
        "       shape of the synthetic image\n",
        "    theta: float\n",
        "       average number of disks per image\n",
        "    rmean: float\n",
        "       average radius of the disks\n",
        "    rstd: float\n",
        "       standard deviation of the radii\n",
        "    vmin, vmax: ints\n",
        "       minimal/maximal gray level of the disks\n",
        "    sigma: float\n",
        "       standard deviation of the noise\n",
        "    img: numpy array\n",
        "       synthetic image\n",
        "    img_truth: numpy array\n",
        "       ground truth image\n",
        "    ndisks: int\n",
        "       number of disks\n",
        "    \"\"\"\n",
        "\n",
        "    def __init__(self, size, theta, rmean, rstd, vmin, vmax, sigma):\n",
        "\n",
        "        \"\"\"\n",
        "        Constructor\n",
        "\n",
        "        Parameters\n",
        "        ----------\n",
        "\n",
        "        size: ints\n",
        "           shape (nx, ny) of the synthetic image\n",
        "        theta: float\n",
        "           average number of disks per image\n",
        "        rmean: float\n",
        "           average radius of the disks\n",
        "        rstd: float\n",
        "           standard deviation of the radii\n",
        "        vmin, vmax: ints\n",
        "           minimal/maximal gray level of the disks\n",
        "        sigma: float\n",
        "           standard deviation of the noise\n",
        "        \"\"\"\n",
        "\n",
        "        self.nx, self.ny = size\n",
        "        self.theta = theta\n",
        "        self.rmean, self.rstd = rmean, rstd\n",
        "        self.vmin, self.vmax = vmin, vmax\n",
        "        self.sigma = sigma\n",
        "\n",
        "\n",
        "    def generate(self):\n",
        "\n",
        "        \"\"\"\n",
        "        Generate a synthetic image\n",
        "        \"\"\"\n",
        "\n",
        "        self.img = np.zeros((self.nx, self.ny))\n",
        "        self.img_truth = np.zeros((self.nx, self.ny))\n",
        "\n",
        "        x = np.linspace(0, self.nx-1, self.nx)\n",
        "        y = np.linspace(0, self.ny-1, self.ny)\n",
        "        xx, yy = np.meshgrid(x, y)\n",
        "\n",
        "        self.ndisks = np.random.poisson(self.theta)\n",
        "\n",
        "        for n in range(self.ndisks):\n",
        "\n",
        "            xc = np.random.uniform(0, self.nx)\n",
        "            yc = np.random.uniform(0, self.ny)\n",
        "            r = np.random.normal(loc=self.rmean, scale=self.rstd)\n",
        "            v = np.random.uniform(self.vmin, self.vmax)\n",
        "\n",
        "            mask = (np.power(xx - xc, 2) + np.power(yy - yc, 2) - r**2 < 0)\n",
        "            self.img[mask] = v\n",
        "            self.img_truth[mask] = 1\n",
        "\n",
        "        noise = self.sigma * np.random.randn(self.nx, self.ny)\n",
        "        self.img = np.clip(self.img + noise, 0, 255)\n",
        "        return self.img, self.img_truth"
      ]
    },
    {
      "cell_type": "code",
      "execution_count": 3,
      "metadata": {
        "colab": {
          "base_uri": "https://localhost:8080/",
          "height": 507
        },
        "id": "hPPRynR-6REl",
        "outputId": "2e47a2df-ca4e-4cca-ff75-143e70e7aefb"
      },
      "outputs": [
        {
          "output_type": "display_data",
          "data": {
            "text/plain": [
              "<Figure size 1000x500 with 2 Axes>"
            ],
            "image/png": "[encoded data removed]"
          },
          "metadata": {}
        }
      ],
      "source": [
        "img_rows, img_cols, img_channels = 64, 64, 1\n",
        "size = (img_rows, img_cols)\n",
        "theta = 5\n",
        "rmean = 4\n",
        "rstd = 0.5\n",
        "vmin = 15\n",
        "vmax = 200\n",
        "sigma = 30\n",
        "\n",
        "# Image generation\n",
        "synthetic_img = Data_Generator(size, theta, rmean, rstd, vmin, vmax, sigma)\n",
        "img, img_truth = synthetic_img.generate()\n",
        "\n",
        "# Display the generated images\n",
        "fig, ax = plt.subplots(1, 2, figsize=(10, 5),sharex=True,sharey=True)\n",
        "ax[0].imshow(img)\n",
        "ax[1].imshow(img_truth)\n",
        "for a in ax.ravel():\n",
        "    a.set_axis_off()\n",
        "plt.tight_layout()\n",
        "plt.show()"
      ]
    },
    {
      "cell_type": "markdown",
      "metadata": {
        "id": "e6sLEHwV6REm"
      },
      "source": [
        "*Question 1*. Use the code of the previous cell to generate a dataset of 2000 training image and 200 validation images. The dataset must be at a format compatible with keras (ex: numpy array)"
      ]
    },
    {
      "cell_type": "code",
      "execution_count": 4,
      "metadata": {
        "colab": {
          "base_uri": "https://localhost:8080/"
        },
        "id": "McWD86Bq6REm",
        "outputId": "bf859e92-d94f-4ea5-f8a4-27d637a7ac47"
      },
      "outputs": [
        {
          "output_type": "stream",
          "name": "stdout",
          "text": [
            "Generation of the training set completed\n"
          ]
        }
      ],
      "source": [
        "nb_train_samples = 2000\n",
        "X_train, Y_train = [], []\n",
        "\n",
        "# Insert your code here\n",
        "for i in range(nb_train_samples) :\n",
        "  synthetic_img = Data_Generator(size, theta, rmean, rstd, vmin, vmax, sigma)\n",
        "  img, img_truth = synthetic_img.generate()\n",
        "  X_train.append(img)\n",
        "  Y_train.append(img_truth)\n",
        "\n",
        "X_train = np.array(X_train)\n",
        "Y_train = np.array(Y_train)\n",
        "\n",
        "print('Generation of the training set completed')\n",
        ""
      ]
    },
    {
      "cell_type": "code",
      "execution_count": 5,
      "metadata": {
        "colab": {
          "base_uri": "https://localhost:8080/"
        },
        "id": "1bx__1sK6REn",
        "outputId": "148fa3d6-6c26-4b66-c4c7-2ecb6601e1d2"
      },
      "outputs": [
        {
          "output_type": "stream",
          "name": "stdout",
          "text": [
            "Generation of the validation set completed\n"
          ]
        }
      ],
      "source": [
        "nb_val_samples = 200\n",
        "X_val, Y_val = [], []\n",
        "\n",
        "# Insert your code here\n",
        "\n",
        "for i in range(nb_train_samples) :\n",
        "  synthetic_img = Data_Generator(size, theta, rmean, rstd, vmin, vmax, sigma)\n",
        "  img, img_truth = synthetic_img.generate()\n",
        "  X_val.append(img)\n",
        "  Y_val.append(img_truth)\n",
        "\n",
        "X_val = np.array(X_val)\n",
        "Y_val = np.array(Y_val)\n",
        "\n",
        "print('Generation of the validation set completed')"
      ]
    },
    {
      "cell_type": "markdown",
      "metadata": {
        "id": "0SGo3G1_6REn"
      },
      "source": [
        "The code in the cell below display one of the training image."
      ]
    },
    {
      "cell_type": "code",
      "execution_count": 6,
      "metadata": {
        "colab": {
          "base_uri": "https://localhost:8080/",
          "height": 507
        },
        "id": "RHZpOLGI6REn",
        "outputId": "498287d4-a485-4d5a-cefb-734acd2a3d60"
      },
      "outputs": [
        {
          "output_type": "display_data",
          "data": {
            "text/plain": [
              "<Figure size 1000x500 with 2 Axes>"
            ],
            "image/png": "[encoded data removed]"
          },
          "metadata": {}
        }
      ],
      "source": [
        "index = 4\n",
        "fig, ax = plt.subplots(1, 2, figsize=(10, 5),sharex=True,sharey=True)\n",
        "ax[0].imshow(X_train[index, :, :])\n",
        "ax[1].imshow(Y_train[index, :, :])\n",
        "for a in ax.ravel():\n",
        "    a.set_axis_off()\n",
        "plt.tight_layout()\n",
        "plt.show()"
      ]
    },
    {
      "cell_type": "markdown",
      "metadata": {
        "id": "HRrfp3Rs6REn"
      },
      "source": [
        "## 2. Network Architecture\n",
        "\n",
        "We use the Context Aggregation Network to perform the image segmentation. The particularity of this convolutional neural network is that it gradually aggregates contextual information without losing resolution through the use of dilated convolutions, whose field of view increases exponentially over the network layers.\n",
        "\n",
        "The input image is normalized and goes through a set of layers $\\{L^1, \\cdots, L^d\\}$. The output of the network is constituted of an image with one channel corresponding to the segmentation mask for the disks.\n",
        "\n",
        "Each block $L^s$, $s\\in [\\![2,d-1]\\!]$ is made of\n",
        "1. a dilated convolution, with receptive field $ 3\\times 3 $, depth $24$, dilation parameter $r_s=2^{s-1}$ and stride $1$,\n",
        "2. a batch normalization layer\n",
        "3. a leaky rectifier linear unit (LReLU), defined as\n",
        "$ \\Phi(x) = \\max(0.2 x, x) $\n",
        "as activation function.\n",
        "Padding is applied to ensure that the output of the block has the same size as the input.\n",
        "\n",
        "The final block of the network is composed of a 2D convolution with receptive field $1 \\times 1$, depth $1$, stride $1$, dilation $1$ and uses a Sigmoid activation function.\n",
        "\n",
        "*Question 2.* Implement the CAN architecture with Keras. Do not forget to include the normalization!"
      ]
    },
    {
      "cell_type": "code",
      "execution_count": 15,
      "metadata": {
        "colab": {
          "base_uri": "https://localhost:8080/",
          "height": 340
        },
        "id": "Tf03H5sM6REo",
        "outputId": "74af0509-4d61-4d8d-a7ee-f42ce546214e"
      },
      "outputs": [
        {
          "output_type": "stream",
          "name": "stderr",
          "text": [
            "/usr/local/lib/python3.11/dist-packages/keras/src/layers/activations/leaky_relu.py:41: UserWarning: Argument `alpha` is deprecated. Use `negative_slope` instead.\n",
            "  warnings.warn(\n"
          ]
        },
        {
          "output_type": "display_data",
          "data": {
            "text/plain": [
              "\u001b[1mModel: \"functional_1\"\u001b[0m\n"
            ],
            "text/html": [
              "<pre style=\"white-space:pre;overflow-x:auto;line-height:normal;font-family:Menlo,'DejaVu Sans Mono',consolas,'Courier New',monospace\"><span style=\"font-weight: bold\">Model: \"functional_1\"</span>\n",
              "</pre>\n"
            ]
          },
          "metadata": {}
        },
        {
          "output_type": "display_data",
          "data": {
            "text/plain": [
              "┏━━━━━━━━━━━━━━━━━━━━━━━━━━━━━━━━━━━━━━┳━━━━━━━━━━━━━━━━━━━━━━━━━━━━━┳━━━━━━━━━━━━━━━━━┓\n",
              "┃\u001b[1m \u001b[0m\u001b[1mLayer (type)                        \u001b[0m\u001b[1m \u001b[0m┃\u001b[1m \u001b[0m\u001b[1mOutput Shape               \u001b[0m\u001b[1m \u001b[0m┃\u001b[1m \u001b[0m\u001b[1m        Param #\u001b[0m\u001b[1m \u001b[0m┃\n",
              "┡━━━━━━━━━━━━━━━━━━━━━━━━━━━━━━━━━━━━━━╇━━━━━━━━━━━━━━━━━━━━━━━━━━━━━╇━━━━━━━━━━━━━━━━━┩\n",
              "│ input_layer_6 (\u001b[38;5;33mInputLayer\u001b[0m)           │ (\u001b[38;5;45mNone\u001b[0m, \u001b[38;5;34m64\u001b[0m, \u001b[38;5;34m64\u001b[0m, \u001b[38;5;34m1\u001b[0m)           │               \u001b[38;5;34m0\u001b[0m │\n",
              "├──────────────────────────────────────┼─────────────────────────────┼─────────────────┤\n",
              "│ conv2d_8 (\u001b[38;5;33mConv2D\u001b[0m)                    │ (\u001b[38;5;45mNone\u001b[0m, \u001b[38;5;34m64\u001b[0m, \u001b[38;5;34m64\u001b[0m, \u001b[38;5;34m24\u001b[0m)          │             \u001b[38;5;34m240\u001b[0m │\n",
              "├──────────────────────────────────────┼─────────────────────────────┼─────────────────┤\n",
              "│ batch_normalization_8                │ (\u001b[38;5;45mNone\u001b[0m, \u001b[38;5;34m64\u001b[0m, \u001b[38;5;34m64\u001b[0m, \u001b[38;5;34m24\u001b[0m)          │              \u001b[38;5;34m96\u001b[0m │\n",
              "│ (\u001b[38;5;33mBatchNormalization\u001b[0m)                 │                             │                 │\n",
              "├──────────────────────────────────────┼─────────────────────────────┼─────────────────┤\n",
              "│ leaky_re_lu_8 (\u001b[38;5;33mLeakyReLU\u001b[0m)            │ (\u001b[38;5;45mNone\u001b[0m, \u001b[38;5;34m64\u001b[0m, \u001b[38;5;34m64\u001b[0m, \u001b[38;5;34m24\u001b[0m)          │               \u001b[38;5;34m0\u001b[0m │\n",
              "├──────────────────────────────────────┼─────────────────────────────┼─────────────────┤\n",
              "│ conv2d_9 (\u001b[38;5;33mConv2D\u001b[0m)                    │ (\u001b[38;5;45mNone\u001b[0m, \u001b[38;5;34m64\u001b[0m, \u001b[38;5;34m64\u001b[0m, \u001b[38;5;34m1\u001b[0m)           │              \u001b[38;5;34m25\u001b[0m │\n",
              "└──────────────────────────────────────┴─────────────────────────────┴─────────────────┘\n"
            ],
            "text/html": [
              "<pre style=\"white-space:pre;overflow-x:auto;line-height:normal;font-family:Menlo,'DejaVu Sans Mono',consolas,'Courier New',monospace\">┏━━━━━━━━━━━━━━━━━━━━━━━━━━━━━━━━━━━━━━┳━━━━━━━━━━━━━━━━━━━━━━━━━━━━━┳━━━━━━━━━━━━━━━━━┓\n",
              "┃<span style=\"font-weight: bold\"> Layer (type)                         </span>┃<span style=\"font-weight: bold\"> Output Shape                </span>┃<span style=\"font-weight: bold\">         Param # </span>┃\n",
              "┡━━━━━━━━━━━━━━━━━━━━━━━━━━━━━━━━━━━━━━╇━━━━━━━━━━━━━━━━━━━━━━━━━━━━━╇━━━━━━━━━━━━━━━━━┩\n",
              "│ input_layer_6 (<span style=\"color: #0087ff; text-decoration-color: #0087ff\">InputLayer</span>)           │ (<span style=\"color: #00d7ff; text-decoration-color: #00d7ff\">None</span>, <span style=\"color: #00af00; text-decoration-color: #00af00\">64</span>, <span style=\"color: #00af00; text-decoration-color: #00af00\">64</span>, <span style=\"color: #00af00; text-decoration-color: #00af00\">1</span>)           │               <span style=\"color: #00af00; text-decoration-color: #00af00\">0</span> │\n",
              "├──────────────────────────────────────┼─────────────────────────────┼─────────────────┤\n",
              "│ conv2d_8 (<span style=\"color: #0087ff; text-decoration-color: #0087ff\">Conv2D</span>)                    │ (<span style=\"color: #00d7ff; text-decoration-color: #00d7ff\">None</span>, <span style=\"color: #00af00; text-decoration-color: #00af00\">64</span>, <span style=\"color: #00af00; text-decoration-color: #00af00\">64</span>, <span style=\"color: #00af00; text-decoration-color: #00af00\">24</span>)          │             <span style=\"color: #00af00; text-decoration-color: #00af00\">240</span> │\n",
              "├──────────────────────────────────────┼─────────────────────────────┼─────────────────┤\n",
              "│ batch_normalization_8                │ (<span style=\"color: #00d7ff; text-decoration-color: #00d7ff\">None</span>, <span style=\"color: #00af00; text-decoration-color: #00af00\">64</span>, <span style=\"color: #00af00; text-decoration-color: #00af00\">64</span>, <span style=\"color: #00af00; text-decoration-color: #00af00\">24</span>)          │              <span style=\"color: #00af00; text-decoration-color: #00af00\">96</span> │\n",
              "│ (<span style=\"color: #0087ff; text-decoration-color: #0087ff\">BatchNormalization</span>)                 │                             │                 │\n",
              "├──────────────────────────────────────┼─────────────────────────────┼─────────────────┤\n",
              "│ leaky_re_lu_8 (<span style=\"color: #0087ff; text-decoration-color: #0087ff\">LeakyReLU</span>)            │ (<span style=\"color: #00d7ff; text-decoration-color: #00d7ff\">None</span>, <span style=\"color: #00af00; text-decoration-color: #00af00\">64</span>, <span style=\"color: #00af00; text-decoration-color: #00af00\">64</span>, <span style=\"color: #00af00; text-decoration-color: #00af00\">24</span>)          │               <span style=\"color: #00af00; text-decoration-color: #00af00\">0</span> │\n",
              "├──────────────────────────────────────┼─────────────────────────────┼─────────────────┤\n",
              "│ conv2d_9 (<span style=\"color: #0087ff; text-decoration-color: #0087ff\">Conv2D</span>)                    │ (<span style=\"color: #00d7ff; text-decoration-color: #00d7ff\">None</span>, <span style=\"color: #00af00; text-decoration-color: #00af00\">64</span>, <span style=\"color: #00af00; text-decoration-color: #00af00\">64</span>, <span style=\"color: #00af00; text-decoration-color: #00af00\">1</span>)           │              <span style=\"color: #00af00; text-decoration-color: #00af00\">25</span> │\n",
              "└──────────────────────────────────────┴─────────────────────────────┴─────────────────┘\n",
              "</pre>\n"
            ]
          },
          "metadata": {}
        },
        {
          "output_type": "display_data",
          "data": {
            "text/plain": [
              "\u001b[1m Total params: \u001b[0m\u001b[38;5;34m361\u001b[0m (1.41 KB)\n"
            ],
            "text/html": [
              "<pre style=\"white-space:pre;overflow-x:auto;line-height:normal;font-family:Menlo,'DejaVu Sans Mono',consolas,'Courier New',monospace\"><span style=\"font-weight: bold\"> Total params: </span><span style=\"color: #00af00; text-decoration-color: #00af00\">361</span> (1.41 KB)\n",
              "</pre>\n"
            ]
          },
          "metadata": {}
        },
        {
          "output_type": "display_data",
          "data": {
            "text/plain": [
              "\u001b[1m Trainable params: \u001b[0m\u001b[38;5;34m313\u001b[0m (1.22 KB)\n"
            ],
            "text/html": [
              "<pre style=\"white-space:pre;overflow-x:auto;line-height:normal;font-family:Menlo,'DejaVu Sans Mono',consolas,'Courier New',monospace\"><span style=\"font-weight: bold\"> Trainable params: </span><span style=\"color: #00af00; text-decoration-color: #00af00\">313</span> (1.22 KB)\n",
              "</pre>\n"
            ]
          },
          "metadata": {}
        },
        {
          "output_type": "display_data",
          "data": {
            "text/plain": [
              "\u001b[1m Non-trainable params: \u001b[0m\u001b[38;5;34m48\u001b[0m (192.00 B)\n"
            ],
            "text/html": [
              "<pre style=\"white-space:pre;overflow-x:auto;line-height:normal;font-family:Menlo,'DejaVu Sans Mono',consolas,'Courier New',monospace\"><span style=\"font-weight: bold\"> Non-trainable params: </span><span style=\"color: #00af00; text-decoration-color: #00af00\">48</span> (192.00 B)\n",
              "</pre>\n"
            ]
          },
          "metadata": {}
        }
      ],
      "source": [
        "import keras\n",
        "from keras import backend as K\n",
        "from keras.models import Model\n",
        "from keras.layers import Input, Conv2D, BatchNormalization, LeakyReLU\n",
        "\n",
        "\n",
        "def make_model(input_shape, nb_modules):\n",
        "\n",
        "    \"\"\"\n",
        "    Creates the network architecture\n",
        "\n",
        "    Parameters\n",
        "    ----------\n",
        "\n",
        "    input shape: tuple of ints\n",
        "        shape of the input image\n",
        "    nb_modules: int\n",
        "        number of module\n",
        "\n",
        "    Returns\n",
        "    -------\n",
        "\n",
        "    out: Keras model\n",
        "        Keras model for the CAN architecture\n",
        "    \"\"\"\n",
        "\n",
        "    # Insert your code here\n",
        "\n",
        "    inputs = Input(shape=input_shape)\n",
        "    x = keras.layers.Rescaling(1.0 /255)(inputs)\n",
        "    for n in range(nb_modules) :\n",
        "      x = Conv2D(filters=24, kernel_size=3, strides=1, padding='same', dilation_rate=1)(inputs)\n",
        "      x = BatchNormalization()(x)\n",
        "      x = LeakyReLU(alpha=0.2)(x)\n",
        "\n",
        "    x = Conv2D(filters=1, kernel_size=1, strides=1, padding='same')(x)\n",
        "    outputs = keras.layers.Activation('sigmoid')(x)\n",
        "    model = keras.Model(inputs=inputs, outputs=x)\n",
        "    return model\n",
        "\n",
        "\n",
        "input_shape = (64, 64, 1)\n",
        "nb_layers = 6\n",
        "model = make_model(input_shape, nb_layers)\n",
        "model.compile(optimizer='rmsprop', loss='mse')\n",
        "model.summary()\n"
      ]
    },
    {
      "cell_type": "markdown",
      "metadata": {
        "id": "i4-R92-b6REo"
      },
      "source": [
        "## 3. Train the model\n",
        "\n",
        "The code in the following cell trains the neural network architecture and plot the evolution of the training loss/validation loss according to the epochs."
      ]
    },
    {
      "cell_type": "code",
      "execution_count": 16,
      "metadata": {
        "colab": {
          "base_uri": "https://localhost:8080/"
        },
        "id": "LbX82pi36REo",
        "outputId": "b908a63a-2d12-4e9d-e634-c25babb71b16"
      },
      "outputs": [
        {
          "output_type": "stream",
          "name": "stdout",
          "text": [
            "Epoch 1/10\n",
            "\u001b[1m63/63\u001b[0m \u001b[32m━━━━━━━━━━━━━━━━━━━━\u001b[0m\u001b[37m\u001b[0m \u001b[1m10s\u001b[0m 137ms/step - loss: 1.1083 - val_loss: 0.1941\n",
            "Epoch 2/10\n",
            "\u001b[1m63/63\u001b[0m \u001b[32m━━━━━━━━━━━━━━━━━━━━\u001b[0m\u001b[37m\u001b[0m \u001b[1m9s\u001b[0m 138ms/step - loss: 0.0548 - val_loss: 0.0777\n",
            "Epoch 3/10\n",
            "\u001b[1m63/63\u001b[0m \u001b[32m━━━━━━━━━━━━━━━━━━━━\u001b[0m\u001b[37m\u001b[0m \u001b[1m8s\u001b[0m 130ms/step - loss: 0.0241 - val_loss: 0.0340\n",
            "Epoch 4/10\n",
            "\u001b[1m63/63\u001b[0m \u001b[32m━━━━━━━━━━━━━━━━━━━━\u001b[0m\u001b[37m\u001b[0m \u001b[1m9s\u001b[0m 149ms/step - loss: 0.0195 - val_loss: 0.0438\n",
            "Epoch 5/10\n",
            "\u001b[1m63/63\u001b[0m \u001b[32m━━━━━━━━━━━━━━━━━━━━\u001b[0m\u001b[37m\u001b[0m \u001b[1m9s\u001b[0m 129ms/step - loss: 0.0186 - val_loss: 0.0313\n",
            "Epoch 6/10\n",
            "\u001b[1m63/63\u001b[0m \u001b[32m━━━━━━━━━━━━━━━━━━━━\u001b[0m\u001b[37m\u001b[0m \u001b[1m8s\u001b[0m 134ms/step - loss: 0.0174 - val_loss: 0.0208\n",
            "Epoch 7/10\n",
            "\u001b[1m63/63\u001b[0m \u001b[32m━━━━━━━━━━━━━━━━━━━━\u001b[0m\u001b[37m\u001b[0m \u001b[1m12s\u001b[0m 157ms/step - loss: 0.0167 - val_loss: 0.0200\n",
            "Epoch 8/10\n",
            "\u001b[1m63/63\u001b[0m \u001b[32m━━━━━━━━━━━━━━━━━━━━\u001b[0m\u001b[37m\u001b[0m \u001b[1m13s\u001b[0m 194ms/step - loss: 0.0163 - val_loss: 0.0176\n",
            "Epoch 9/10\n",
            "\u001b[1m63/63\u001b[0m \u001b[32m━━━━━━━━━━━━━━━━━━━━\u001b[0m\u001b[37m\u001b[0m \u001b[1m17s\u001b[0m 139ms/step - loss: 0.0159 - val_loss: 0.0172\n",
            "Epoch 10/10\n",
            "\u001b[1m63/63\u001b[0m \u001b[32m━━━━━━━━━━━━━━━━━━━━\u001b[0m\u001b[37m\u001b[0m \u001b[1m9s\u001b[0m 146ms/step - loss: 0.0155 - val_loss: 0.0276\n"
          ]
        }
      ],
      "source": [
        "# training\n",
        "history = model.fit(X_train, Y_train,\n",
        "                    batch_size=32,\n",
        "                    epochs=10,\n",
        "                    validation_data=(X_val, Y_val),\n",
        "                    verbose=True)"
      ]
    },
    {
      "cell_type": "code",
      "execution_count": null,
      "metadata": {
        "id": "V4D4f_gO6REo"
      },
      "outputs": [],
      "source": [
        "# **** #####################################\"\n",
        "print(\"Best validation loss: %.5f\" % (np.min(history.history['val_loss'])))\n",
        "print(\"at: %d\" % np.argmin(history.history['val_loss']))"
      ]
    },
    {
      "cell_type": "code",
      "execution_count": null,
      "metadata": {
        "id": "W_SR3yeC6REo"
      },
      "outputs": [],
      "source": [
        "plt.plot(history.epoch, history.history['loss'], label='train')\n",
        "plt.plot(history.epoch, history.history['val_loss'], label='val')\n",
        "plt.title('Training performance')\n",
        "plt.ylabel('loss')\n",
        "plt.xlabel('epoch')\n",
        "plt.legend()\n",
        "plt.ylim(0.0, 0.1)\n",
        "plt.show()"
      ]
    },
    {
      "cell_type": "markdown",
      "metadata": {
        "id": "CGSLKy5e6REo"
      },
      "source": [
        "## 4: Test the model\n",
        "\n",
        "*Question 3*. Generate a dataset of 10 test images and test the result of the algorithm on these images.\n"
      ]
    },
    {
      "cell_type": "code",
      "execution_count": null,
      "metadata": {
        "id": "_eRolqrP6REp"
      },
      "outputs": [],
      "source": [
        "nb_test_samples = 10\n",
        "X_test, Y_test = [], []\n",
        "\n",
        "# Insert your code here\n",
        "\n",
        "print('Generation of the test set completed')"
      ]
    },
    {
      "cell_type": "code",
      "execution_count": null,
      "metadata": {
        "id": "xIga4sE96REp"
      },
      "outputs": [],
      "source": [
        "# Insert your code here"
      ]
    }
  ],
  "metadata": {
    "kernelspec": {
      "display_name": "Python 3 (ipykernel)",
      "language": "python",
      "name": "python3"
    },
    "language_info": {
      "codemirror_mode": {
        "name": "ipython",
        "version": 3
      },
      "file_extension": ".py",
      "mimetype": "text/x-python",
      "name": "python",
      "nbconvert_exporter": "python",
      "pygments_lexer": "ipython3",
      "version": "3.8.13"
    },
    "colab": {
      "provenance": [],
      "include_colab_link": true
    }
  },
  "nbformat": 4,
  "nbformat_minor": 0
}